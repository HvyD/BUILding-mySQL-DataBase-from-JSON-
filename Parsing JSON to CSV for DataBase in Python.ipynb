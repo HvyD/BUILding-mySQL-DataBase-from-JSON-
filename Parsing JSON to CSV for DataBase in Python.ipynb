{
 "cells": [
  {
   "cell_type": "markdown",
   "metadata": {},
   "source": [
    "## Read and transfer JSON file to Pandas DataFrame for Anaylsis and DB Schemas"
   ]
  },
  {
   "cell_type": "code",
   "execution_count": null,
   "metadata": {},
   "outputs": [],
   "source": [
    "import os\n",
    "import csv\n",
    "import json\n",
    "from  jsonmerge import merge\n",
    "import pandas as pd\n",
    "import logging\n",
    "\n",
    "from IPython.core.interactiveshell import InteractiveShell\n",
    "InteractiveShell.ast_node_interactivity = \"all\""
   ]
  },
  {
   "cell_type": "code",
   "execution_count": null,
   "metadata": {},
   "outputs": [],
   "source": [
    "# logging and removing Malformed and Errors.\n",
    "logging.basicConfig(filename = 'malformed.log', format='%(asctime)s - %(message)s', datefmt='%m/%d/%Y %I:%M:%S %p', level=logging.DEBUG)\n",
    "logging.basicConfig(filename = 'error.log', format='%(asctime)s - %(message)s', datefmt='%m/%d/%Y %I:%M:%S %p', level=logging.DEBUG)\n",
    "\n",
    "#load file\n",
    "TestJson1 = open('test_1', 'r')\n",
    "TestJson2 = open('test_2', 'r')\n",
    "\n",
    "#interate line by line and log and remove issues\n",
    "for i, line in enumerate(TestJson1, TestJson2):\n",
    "  try:\n",
    "    data = json.loads(line)\n",
    "  except json.decoder.JSONDecodeError:\n",
    "    logging.debug(repr(line))\n",
    "    logging.info('Malformation on Line')\n",
    "    logging.error(repr(line))\n",
    "    logging.info('Error')\n",
    "    data.remove(repr(line))\n",
    "    #print('Malformation on Line', i+1,':\\n', repr(line))  "
   ]
  },
  {
   "cell_type": "markdown",
   "metadata": {},
   "source": [
    "#### Parse Cleaned JSON into CSV file for Visualizing Columns for DB Schema"
   ]
  },
  {
   "cell_type": "code",
   "execution_count": null,
   "metadata": {},
   "outputs": [],
   "source": [
    "#load into DataFrfame\n",
    "json_file1 = 'test_1'\n",
    "json_file2 = 'test_2'\n",
    "data1 = pd.read_json(json_file1, convert_dates=True, lines=True)\n",
    "data2 = pd.read_json(json_file2, convert_dates=True, lines=True)\n",
    "data1.to_csv('Test1.csv', encoding='utf-8', index=False, na_rep=' ')\n",
    "data2.to_csv('Test2.csv', encoding='utf-8', index=False, na_rep=' ')\n",
    "\n",
    "data1.head();\n",
    "data2.head();"
   ]
  },
  {
   "cell_type": "code",
   "execution_count": null,
   "metadata": {},
   "outputs": [],
   "source": [
    "#find my columns to use\n",
    "cols1 = data1.columns.tolist()\n",
    "cols1;\n"
   ]
  },
  {
   "cell_type": "code",
   "execution_count": null,
   "metadata": {},
   "outputs": [],
   "source": [
    "#find columns\n",
    "cols2 = data1.columns.tolist()\n",
    "cols2;"
   ]
  },
  {
   "cell_type": "markdown",
   "metadata": {},
   "source": [
    "#### Read CSV file and split into DB Schema Tables to be manually Inserted into DB"
   ]
  },
  {
   "cell_type": "code",
   "execution_count": null,
   "metadata": {},
   "outputs": [],
   "source": [
    "#merge CSV file\n",
    "Data = merge('Test1.csv','Test2.csv')\n",
    "CSV = pd.read_csv(Data)"
   ]
  },
  {
   "cell_type": "code",
   "execution_count": null,
   "metadata": {},
   "outputs": [],
   "source": [
    "#seperate columns and values for PlayersInfo Table CSV file\n",
    "CSV[['userId', 'event_type', 'time', 'gold_earned', 'gold_spent', 'item_id',\n",
    " 'item_sku']].to_csv('PlayersInfo.csv', index=False)\n",
    "pd.read_csv('PlayersInfo.csv')"
   ]
  },
  {
   "cell_type": "code",
   "execution_count": null,
   "metadata": {},
   "outputs": [],
   "source": [
    "#seperate columns and values for Kills event Table CSV file\n",
    "CSV[['userId', 'killer', 'dmg_table']].to_csv('Kill_eventTBL.csv', index=False)\n",
    "pd.read_csv('Kill_eventTBL.csv')"
   ]
  }
 ],
 "metadata": {
  "kernelspec": {
   "display_name": "Python 3",
   "language": "python",
   "name": "python3"
  },
  "language_info": {
   "codemirror_mode": {
    "name": "ipython",
    "version": 3
   },
   "file_extension": ".py",
   "mimetype": "text/x-python",
   "name": "python",
   "nbconvert_exporter": "python",
   "pygments_lexer": "ipython3",
   "version": "3.7.3"
  }
 },
 "nbformat": 4,
 "nbformat_minor": 2
}
